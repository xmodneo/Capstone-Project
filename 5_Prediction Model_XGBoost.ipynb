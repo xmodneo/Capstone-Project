{
 "cells": [
  {
   "cell_type": "code",
   "execution_count": 1,
   "id": "a350b08e",
   "metadata": {},
   "outputs": [],
   "source": [
    "import numpy as np\n",
    "import pandas as pd\n",
    "import seaborn as sns\n",
    "import xgboost as xgb\n",
    "import prettytable\n",
    "import matplotlib.pyplot as plt\n",
    "from prettytable import PrettyTable\n",
    "from sklearn.metrics import f1_score\n",
    "from scipy.stats import randint as sp_randint\n",
    "from sklearn.metrics import confusion_matrix\n",
    "from sklearn.metrics import roc_curve, auc\n",
    "from sklearn.model_selection import RandomizedSearchCV"
   ]
  },
  {
   "cell_type": "code",
   "execution_count": 2,
   "id": "c6c0514f",
   "metadata": {},
   "outputs": [
    {
     "data": {
      "text/plain": [
       "Index(['source_node', 'destination_node', 'indicator_link',\n",
       "       'jaccard_followers', 'jaccard_followees', 'cosine_followers',\n",
       "       'cosine_followees', 'num_followers_s', 'num_followers_d',\n",
       "       'num_followees_s', 'num_followees_d', 'inter_followers',\n",
       "       'inter_followees', 'adar_index', 'follows_back', 'same_comp',\n",
       "       'shortest_path', 'weight_in', 'weight_out', 'weight_f1', 'weight_f2',\n",
       "       'weight_f3', 'weight_f4', 'page_rank_s', 'page_rank_d', 'katz_s',\n",
       "       'katz_d', 'hubs_s', 'hubs_d', 'authorities_s', 'authorities_d',\n",
       "       'svd_u_s_1', 'svd_u_s_2', 'svd_u_s_3', 'svd_u_s_4', 'svd_u_s_5',\n",
       "       'svd_u_s_6', 'svd_u_d_1', 'svd_u_d_2', 'svd_u_d_3', 'svd_u_d_4',\n",
       "       'svd_u_d_5', 'svd_u_d_6', 'svd_v_s_1', 'svd_v_s_2', 'svd_v_s_3',\n",
       "       'svd_v_s_4', 'svd_v_s_5', 'svd_v_s_6', 'svd_v_d_1', 'svd_v_d_2',\n",
       "       'svd_v_d_3', 'svd_v_d_4', 'svd_v_d_5', 'svd_v_d_6',\n",
       "       'preferential_followers', 'preferential_followee', 'svd_dot_u',\n",
       "       'svd_dot_v'],\n",
       "      dtype='object')"
      ]
     },
     "execution_count": 2,
     "metadata": {},
     "output_type": "execute_result"
    }
   ],
   "source": [
    "#read the data into a dataframe\n",
    "df_final_train = pd.read_hdf('data/storage_sample_stage5.h5', 'train_df',mode='r')\n",
    "df_final_test = pd.read_hdf('data/storage_sample_stage5.h5', 'test_df',mode='r')\n",
    "\n",
    "y_train = df_final_train.indicator_link\n",
    "y_test = df_final_test.indicator_link\n",
    "\n",
    "df_final_train.columns"
   ]
  },
  {
   "cell_type": "code",
   "execution_count": 3,
   "id": "426814c3",
   "metadata": {},
   "outputs": [],
   "source": [
    "#remove the unwanted columns\n",
    "df_final_train.drop(['source_node', 'destination_node','indicator_link'],axis=1,inplace=True)\n",
    "df_final_test.drop(['source_node', 'destination_node','indicator_link'],axis=1,inplace=True)"
   ]
  },
  {
   "cell_type": "code",
   "execution_count": 9,
   "id": "c56eba37",
   "metadata": {},
   "outputs": [
    {
     "name": "stdout",
     "output_type": "stream",
     "text": [
      "Fitting 10 folds for each of 10 candidates, totalling 100 fits\n"
     ]
    },
    {
     "data": {
      "text/plain": [
       "({'max_depth': 14, 'n_estimators': 105}, 0.9994502428639844)"
      ]
     },
     "execution_count": 9,
     "metadata": {},
     "output_type": "execute_result"
    }
   ],
   "source": [
    "param_dist = {\"n_estimators\":sp_randint(105,125),\"max_depth\": sp_randint(10,15)}\n",
    "\n",
    "estimator1 = xgb.XGBRFClassifier(objective= 'binary:logistic',eval_metric= 'auc',scale_pos_weight = 1,random_state=123)\n",
    "\n",
    "Rsearch1= RandomizedSearchCV(estimator1,param_distributions=param_dist,scoring='f1',n_jobs=-1, cv=10,verbose=20,random_state=123)\n",
    "\n",
    "Rsearch1.fit(df_final_train,y_train)\n",
    "\n",
    "Rsearch1.best_params_, Rsearch1.best_score_"
   ]
  },
  {
   "cell_type": "code",
   "execution_count": 15,
   "id": "ded82b89",
   "metadata": {},
   "outputs": [
    {
     "name": "stdout",
     "output_type": "stream",
     "text": [
      "mean test scores [0.99942024 0.99928024 0.99940026 0.99907017 0.99929024 0.99905016\n",
      " 0.99928024 0.99945024 0.99907019 0.99928024]\n"
     ]
    }
   ],
   "source": [
    "print('mean test scores',Rsearch1.cv_results_['mean_test_score'])"
   ]
  },
  {
   "cell_type": "code",
   "execution_count": 11,
   "id": "be19ab01",
   "metadata": {},
   "outputs": [
    {
     "name": "stdout",
     "output_type": "stream",
     "text": [
      "XGBRFClassifier(base_score=0.5, booster='gbtree', callbacks=None,\n",
      "                colsample_bylevel=1, colsample_bytree=1,\n",
      "                early_stopping_rounds=None, enable_categorical=False,\n",
      "                eval_metric='auc', gamma=0, gpu_id=-1, grow_policy='depthwise',\n",
      "                importance_type=None, interaction_constraints='', max_bin=256,\n",
      "                max_cat_to_onehot=4, max_delta_step=0, max_depth=14,\n",
      "                max_leaves=0, min_child_weight=1, missing=nan,\n",
      "                monotone_constraints='()', n_estimators=105, n_jobs=0,\n",
      "                num_parallel_tree=105, objective='binary:logistic',\n",
      "                predictor='auto', random_state=123, reg_alpha=0,\n",
      "                sampling_method='uniform', scale_pos_weight=1, ...)\n",
      "{'max_depth': 14, 'n_estimators': 105}\n",
      "0.9994502428639844\n"
     ]
    }
   ],
   "source": [
    "print(Rsearch1.best_estimator_)\n",
    "print(Rsearch1.best_params_)\n",
    "print(Rsearch1.best_score_)"
   ]
  },
  {
   "cell_type": "code",
   "execution_count": 13,
   "id": "b5baa0f1",
   "metadata": {},
   "outputs": [],
   "source": [
    "d=Rsearch1.best_params_['max_depth']\n",
    "n=Rsearch1.best_params_['n_estimators']"
   ]
  },
  {
   "cell_type": "code",
   "execution_count": 14,
   "id": "6480991e",
   "metadata": {},
   "outputs": [
    {
     "name": "stdout",
     "output_type": "stream",
     "text": [
      "Fitting 10 folds for each of 10 candidates, totalling 100 fits\n"
     ]
    },
    {
     "data": {
      "text/plain": [
       "({'subsample': 0.85, 'colsample_bytree': 0.7}, 0.9998800599670196)"
      ]
     },
     "execution_count": 14,
     "metadata": {},
     "output_type": "execute_result"
    }
   ],
   "source": [
    "params={\"colsample_bytree\": [ 0.3, 0.4, 0.5 , 0.7 ,0.9],'subsample':[0.75,0.80,0.85,0.90]}\n",
    "estimator2 =xgb.XGBRFClassifier(objective= 'binary:logistic',eval_metric= 'auc',scale_pos_weight = 1,random_state=123,max_depth=d,n_estimators=n)\n",
    "\n",
    "Rsearch2= RandomizedSearchCV(estimator2,param_distributions=params,scoring='f1',n_jobs=8, cv=10,verbose=20,random_state=123)\n",
    "\n",
    "Rsearch2.fit(df_final_train,y_train)\n",
    "\n",
    "Rsearch2.best_params_, Rsearch2.best_score_"
   ]
  },
  {
   "cell_type": "code",
   "execution_count": 18,
   "id": "88a740ff",
   "metadata": {},
   "outputs": [
    {
     "name": "stdout",
     "output_type": "stream",
     "text": [
      "mean test scores [0.99988006 0.99427445 0.99416653 0.99964017 0.99678214 0.99433421\n",
      " 0.99965015 0.99986006 0.98889135 0.99986007]\n"
     ]
    }
   ],
   "source": [
    "print('mean test scores',Rsearch2.cv_results_['mean_test_score'])\n",
    "#print('mean train scores',Rsearch2.cv_results_['mean_train_score'])"
   ]
  },
  {
   "cell_type": "code",
   "execution_count": 19,
   "id": "6dd8410e",
   "metadata": {},
   "outputs": [
    {
     "name": "stdout",
     "output_type": "stream",
     "text": [
      "XGBRFClassifier(base_score=0.5, booster='gbtree', callbacks=None,\n",
      "                colsample_bylevel=1, colsample_bytree=0.7,\n",
      "                early_stopping_rounds=None, enable_categorical=False,\n",
      "                eval_metric='auc', gamma=0, gpu_id=-1, grow_policy='depthwise',\n",
      "                importance_type=None, interaction_constraints='', max_bin=256,\n",
      "                max_cat_to_onehot=4, max_delta_step=0, max_depth=14,\n",
      "                max_leaves=0, min_child_weight=1, missing=nan,\n",
      "                monotone_constraints='()', n_estimators=105, n_jobs=0,\n",
      "                num_parallel_tree=105, objective='binary:logistic',\n",
      "                predictor='auto', random_state=123, reg_alpha=0,\n",
      "                sampling_method='uniform', scale_pos_weight=1, ...)\n",
      "{'subsample': 0.85, 'colsample_bytree': 0.7}\n",
      "0.9998800599670196\n"
     ]
    }
   ],
   "source": [
    "print(Rsearch2.best_estimator_)\n",
    "print(Rsearch2.best_params_)\n",
    "print(Rsearch2.best_score_)"
   ]
  },
  {
   "cell_type": "code",
   "execution_count": 20,
   "id": "a8d426f7",
   "metadata": {},
   "outputs": [],
   "source": [
    "col=Rsearch2.best_params_[\"colsample_bytree\"]\n",
    "sub=Rsearch2.best_params_['subsample']"
   ]
  },
  {
   "cell_type": "code",
   "execution_count": 21,
   "id": "e1fb6816",
   "metadata": {},
   "outputs": [
    {
     "name": "stdout",
     "output_type": "stream",
     "text": [
      "Fitting 10 folds for each of 10 candidates, totalling 100 fits\n"
     ]
    },
    {
     "data": {
      "text/plain": [
       "({'learning_rate': 0.5, 'gamma': 0.2}, 0.9998800599670196)"
      ]
     },
     "execution_count": 21,
     "metadata": {},
     "output_type": "execute_result"
    }
   ],
   "source": [
    "params={\"learning_rate\": [0.05,0.10,0.15,0.20,0.25,0.30,0.5] ,\"gamma\": [ 0.01,0.0, 0.1, 0.2 , 0.3, 0.4 ]}\n",
    "\n",
    "estimator3 = xgb.XGBRFClassifier(objective= 'binary:logistic',eval_metric= 'auc',scale_pos_weight = 1,random_state=123,max_depth=d,n_estimators=n,colsample_bytree=col,subsample=sub)\n",
    "Rsearch3= RandomizedSearchCV(estimator3,param_distributions=params,scoring='f1',n_jobs=8, cv=10,random_state=123,verbose=20)\n",
    "Rsearch3.fit(df_final_train,y_train)\n",
    "Rsearch3.best_params_, Rsearch3.best_score_"
   ]
  },
  {
   "cell_type": "code",
   "execution_count": 22,
   "id": "2c79e8f4",
   "metadata": {},
   "outputs": [
    {
     "name": "stdout",
     "output_type": "stream",
     "text": [
      "mean test scores [0.99988006 0.99988006 0.99988006 0.99988006 0.99988006 0.99988006\n",
      " 0.99988006 0.99988006 0.99988006 0.99988006]\n"
     ]
    }
   ],
   "source": [
    "print('mean test scores',Rsearch3.cv_results_['mean_test_score'])\n",
    "#print('mean train scores',Rsearch3.cv_results_['mean_train_score'])"
   ]
  },
  {
   "cell_type": "code",
   "execution_count": 23,
   "id": "2ad04848",
   "metadata": {},
   "outputs": [
    {
     "name": "stdout",
     "output_type": "stream",
     "text": [
      "XGBRFClassifier(base_score=0.5, booster='gbtree', callbacks=None,\n",
      "                colsample_bylevel=1, colsample_bytree=0.7,\n",
      "                early_stopping_rounds=None, enable_categorical=False,\n",
      "                eval_metric='auc', gamma=0.2, gpu_id=-1,\n",
      "                grow_policy='depthwise', importance_type=None,\n",
      "                interaction_constraints='', learning_rate=0.5, max_bin=256,\n",
      "                max_cat_to_onehot=4, max_delta_step=0, max_depth=14,\n",
      "                max_leaves=0, min_child_weight=1, missing=nan,\n",
      "                monotone_constraints='()', n_estimators=105, n_jobs=0,\n",
      "                num_parallel_tree=105, objective='binary:logistic',\n",
      "                predictor='auto', random_state=123, reg_alpha=0,\n",
      "                sampling_method='uniform', ...)\n",
      "{'learning_rate': 0.5, 'gamma': 0.2}\n",
      "0.9998800599670196\n"
     ]
    }
   ],
   "source": [
    "print(Rsearch3.best_estimator_)\n",
    "print(Rsearch3.best_params_)\n",
    "print(Rsearch3.best_score_)"
   ]
  },
  {
   "cell_type": "code",
   "execution_count": 24,
   "id": "983553d1",
   "metadata": {},
   "outputs": [],
   "source": [
    "rate = Rsearch3.best_params_[\"learning_rate\"]\n",
    "g = Rsearch3.best_params_['gamma']"
   ]
  },
  {
   "cell_type": "code",
   "execution_count": null,
   "id": "3a4874bb",
   "metadata": {},
   "outputs": [],
   "source": [
    "params={'reg_alpha':[0, 0.001, 0.005, 0.01, 0.05]}\n",
    "estimator4 = xgb.XGBRFClassifier(objective= 'binary:logistic',eval_metric= 'auc',scale_pos_weight = 1,random_state=123,max_depth=d,n_estimators=n,colsample_bytree=col,subsample=sub,learning_rate=rate,gamma=g)\n",
    "Rsearch4= RandomizedSearchCV(estimator4,param_distributions=params,scoring='f1',n_jobs=8, cv=10,random_state=123,verbose=20)\n",
    "Rsearch4.fit(df_final_train,y_train)\n",
    "Rsearch4.best_params_, Rsearch4.best_score_"
   ]
  },
  {
   "cell_type": "code",
   "execution_count": 30,
   "id": "fb327418",
   "metadata": {},
   "outputs": [
    {
     "name": "stdout",
     "output_type": "stream",
     "text": [
      "mean test scores [0.99988006 0.99988006 0.99988006 0.99988006 0.99989005]\n"
     ]
    }
   ],
   "source": [
    "print('mean test scores',Rsearch4.cv_results_['mean_test_score'])\n",
    "#print('mean train scores',Rsearch4.cv_results_['mean_train_score'])"
   ]
  },
  {
   "cell_type": "code",
   "execution_count": 31,
   "id": "0be21293",
   "metadata": {},
   "outputs": [
    {
     "name": "stdout",
     "output_type": "stream",
     "text": [
      "XGBRFClassifier(base_score=0.5, booster='gbtree', callbacks=None,\n",
      "                colsample_bylevel=1, colsample_bytree=0.7,\n",
      "                early_stopping_rounds=None, enable_categorical=False,\n",
      "                eval_metric='auc', gamma=0.2, gpu_id=-1,\n",
      "                grow_policy='depthwise', importance_type=None,\n",
      "                interaction_constraints='', learning_rate=0.5, max_bin=256,\n",
      "                max_cat_to_onehot=4, max_delta_step=0, max_depth=14,\n",
      "                max_leaves=0, min_child_weight=1, missing=nan,\n",
      "                monotone_constraints='()', n_estimators=105, n_jobs=0,\n",
      "                num_parallel_tree=105, objective='binary:logistic',\n",
      "                predictor='auto', random_state=123, reg_alpha=0.05,\n",
      "                sampling_method='uniform', ...)\n",
      "{'reg_alpha': 0.05}\n",
      "0.9998900549695182\n"
     ]
    }
   ],
   "source": [
    "print(Rsearch4.best_estimator_)\n",
    "print(Rsearch4.best_params_)\n",
    "print(Rsearch4.best_score_)"
   ]
  },
  {
   "cell_type": "code",
   "execution_count": 33,
   "id": "7be5de86",
   "metadata": {},
   "outputs": [],
   "source": [
    "alpha = Rsearch4.best_params_[\"reg_alpha\"]\n",
    "#lamda = Rsearch4.best_params_['reg_lamda']"
   ]
  },
  {
   "cell_type": "code",
   "execution_count": 37,
   "id": "18a0a874",
   "metadata": {},
   "outputs": [
    {
     "data": {
      "text/html": [
       "<style>#sk-container-id-3 {color: black;background-color: white;}#sk-container-id-3 pre{padding: 0;}#sk-container-id-3 div.sk-toggleable {background-color: white;}#sk-container-id-3 label.sk-toggleable__label {cursor: pointer;display: block;width: 100%;margin-bottom: 0;padding: 0.3em;box-sizing: border-box;text-align: center;}#sk-container-id-3 label.sk-toggleable__label-arrow:before {content: \"▸\";float: left;margin-right: 0.25em;color: #696969;}#sk-container-id-3 label.sk-toggleable__label-arrow:hover:before {color: black;}#sk-container-id-3 div.sk-estimator:hover label.sk-toggleable__label-arrow:before {color: black;}#sk-container-id-3 div.sk-toggleable__content {max-height: 0;max-width: 0;overflow: hidden;text-align: left;background-color: #f0f8ff;}#sk-container-id-3 div.sk-toggleable__content pre {margin: 0.2em;color: black;border-radius: 0.25em;background-color: #f0f8ff;}#sk-container-id-3 input.sk-toggleable__control:checked~div.sk-toggleable__content {max-height: 200px;max-width: 100%;overflow: auto;}#sk-container-id-3 input.sk-toggleable__control:checked~label.sk-toggleable__label-arrow:before {content: \"▾\";}#sk-container-id-3 div.sk-estimator input.sk-toggleable__control:checked~label.sk-toggleable__label {background-color: #d4ebff;}#sk-container-id-3 div.sk-label input.sk-toggleable__control:checked~label.sk-toggleable__label {background-color: #d4ebff;}#sk-container-id-3 input.sk-hidden--visually {border: 0;clip: rect(1px 1px 1px 1px);clip: rect(1px, 1px, 1px, 1px);height: 1px;margin: -1px;overflow: hidden;padding: 0;position: absolute;width: 1px;}#sk-container-id-3 div.sk-estimator {font-family: monospace;background-color: #f0f8ff;border: 1px dotted black;border-radius: 0.25em;box-sizing: border-box;margin-bottom: 0.5em;}#sk-container-id-3 div.sk-estimator:hover {background-color: #d4ebff;}#sk-container-id-3 div.sk-parallel-item::after {content: \"\";width: 100%;border-bottom: 1px solid gray;flex-grow: 1;}#sk-container-id-3 div.sk-label:hover label.sk-toggleable__label {background-color: #d4ebff;}#sk-container-id-3 div.sk-serial::before {content: \"\";position: absolute;border-left: 1px solid gray;box-sizing: border-box;top: 0;bottom: 0;left: 50%;z-index: 0;}#sk-container-id-3 div.sk-serial {display: flex;flex-direction: column;align-items: center;background-color: white;padding-right: 0.2em;padding-left: 0.2em;position: relative;}#sk-container-id-3 div.sk-item {position: relative;z-index: 1;}#sk-container-id-3 div.sk-parallel {display: flex;align-items: stretch;justify-content: center;background-color: white;position: relative;}#sk-container-id-3 div.sk-item::before, #sk-container-id-3 div.sk-parallel-item::before {content: \"\";position: absolute;border-left: 1px solid gray;box-sizing: border-box;top: 0;bottom: 0;left: 50%;z-index: -1;}#sk-container-id-3 div.sk-parallel-item {display: flex;flex-direction: column;z-index: 1;position: relative;background-color: white;}#sk-container-id-3 div.sk-parallel-item:first-child::after {align-self: flex-end;width: 50%;}#sk-container-id-3 div.sk-parallel-item:last-child::after {align-self: flex-start;width: 50%;}#sk-container-id-3 div.sk-parallel-item:only-child::after {width: 0;}#sk-container-id-3 div.sk-dashed-wrapped {border: 1px dashed gray;margin: 0 0.4em 0.5em 0.4em;box-sizing: border-box;padding-bottom: 0.4em;background-color: white;}#sk-container-id-3 div.sk-label label {font-family: monospace;font-weight: bold;display: inline-block;line-height: 1.2em;}#sk-container-id-3 div.sk-label-container {text-align: center;}#sk-container-id-3 div.sk-container {/* jupyter's `normalize.less` sets `[hidden] { display: none; }` but bootstrap.min.css set `[hidden] { display: none !important; }` so we also need the `!important` here to be able to override the default hidden behavior on the sphinx rendered scikit-learn.org. See: https://github.com/scikit-learn/scikit-learn/issues/21755 */display: inline-block !important;position: relative;}#sk-container-id-3 div.sk-text-repr-fallback {display: none;}</style><div id=\"sk-container-id-3\" class=\"sk-top-container\"><div class=\"sk-text-repr-fallback\"><pre>XGBRFClassifier(base_score=0.5, booster=&#x27;gbtree&#x27;, callbacks=None,\n",
       "                colsample_bylevel=1, colsample_bytree=0.7,\n",
       "                early_stopping_rounds=None, enable_categorical=False,\n",
       "                eval_metric=&#x27;auc&#x27;, gamma=0.2, gpu_id=-1,\n",
       "                grow_policy=&#x27;depthwise&#x27;, importance_type=None,\n",
       "                interaction_constraints=&#x27;&#x27;, learning_rate=0.5, max_bin=256,\n",
       "                max_cat_to_onehot=4, max_delta_step=0, max_depth=14,\n",
       "                max_leaves=0, min_child_weight=1, missing=1,\n",
       "                monotone_constraints=&#x27;()&#x27;, n_estimators=111, n_jobs=1,\n",
       "                nthread=1, num_parallel_tree=111, objective=&#x27;binary:logistic&#x27;,\n",
       "                predictor=&#x27;auto&#x27;, random_state=123, reg_alpha=0.001, ...)</pre><b>In a Jupyter environment, please rerun this cell to show the HTML representation or trust the notebook. <br />On GitHub, the HTML representation is unable to render, please try loading this page with nbviewer.org.</b></div><div class=\"sk-container\" hidden><div class=\"sk-item\"><div class=\"sk-estimator sk-toggleable\"><input class=\"sk-toggleable__control sk-hidden--visually\" id=\"sk-estimator-id-3\" type=\"checkbox\" checked><label for=\"sk-estimator-id-3\" class=\"sk-toggleable__label sk-toggleable__label-arrow\">XGBRFClassifier</label><div class=\"sk-toggleable__content\"><pre>XGBRFClassifier(base_score=0.5, booster=&#x27;gbtree&#x27;, callbacks=None,\n",
       "                colsample_bylevel=1, colsample_bytree=0.7,\n",
       "                early_stopping_rounds=None, enable_categorical=False,\n",
       "                eval_metric=&#x27;auc&#x27;, gamma=0.2, gpu_id=-1,\n",
       "                grow_policy=&#x27;depthwise&#x27;, importance_type=None,\n",
       "                interaction_constraints=&#x27;&#x27;, learning_rate=0.5, max_bin=256,\n",
       "                max_cat_to_onehot=4, max_delta_step=0, max_depth=14,\n",
       "                max_leaves=0, min_child_weight=1, missing=1,\n",
       "                monotone_constraints=&#x27;()&#x27;, n_estimators=111, n_jobs=1,\n",
       "                nthread=1, num_parallel_tree=111, objective=&#x27;binary:logistic&#x27;,\n",
       "                predictor=&#x27;auto&#x27;, random_state=123, reg_alpha=0.001, ...)</pre></div></div></div></div></div>"
      ],
      "text/plain": [
       "XGBRFClassifier(base_score=0.5, booster='gbtree', callbacks=None,\n",
       "                colsample_bylevel=1, colsample_bytree=0.7,\n",
       "                early_stopping_rounds=None, enable_categorical=False,\n",
       "                eval_metric='auc', gamma=0.2, gpu_id=-1,\n",
       "                grow_policy='depthwise', importance_type=None,\n",
       "                interaction_constraints='', learning_rate=0.5, max_bin=256,\n",
       "                max_cat_to_onehot=4, max_delta_step=0, max_depth=14,\n",
       "                max_leaves=0, min_child_weight=1, missing=1,\n",
       "                monotone_constraints='()', n_estimators=111, n_jobs=1,\n",
       "                nthread=1, num_parallel_tree=111, objective='binary:logistic',\n",
       "                predictor='auto', random_state=123, reg_alpha=0.001, ...)"
      ]
     },
     "execution_count": 37,
     "metadata": {},
     "output_type": "execute_result"
    }
   ],
   "source": [
    "final_clf = xgb.XGBRFClassifier(base_score=0.5, colsample_bylevel=1, colsample_bynode=0.8,\n",
    "        colsample_bytree=0.7, eval_metric='auc', gamma=0.2,\n",
    "        learning_rate=0.5, max_delta_step=0, max_depth=14,\n",
    "        min_child_weight=1,missing=1, n_estimators=111, n_jobs=1, nthread=None,\n",
    "        objective='binary:logistic', random_state=123, reg_alpha=0.001, scale_pos_weight=1, seed=None,\n",
    "        silent=None, subsample=0.9, verbosity=1)\n",
    "\n",
    "final_clf.fit(df_final_train,y_train)"
   ]
  },
  {
   "cell_type": "code",
   "execution_count": 38,
   "id": "29a7f8b9",
   "metadata": {},
   "outputs": [
    {
     "name": "stdout",
     "output_type": "stream",
     "text": [
      "The train f1 score is: 1.0\n",
      "The test f1 score is: 0.8892053039067367\n"
     ]
    }
   ],
   "source": [
    "predict_y_test_final = final_clf.predict(df_final_test)\n",
    "predict_y_train_final = final_clf.predict(df_final_train)\n",
    "\n",
    "print(\"The train f1 score is:\",f1_score(y_train,predict_y_train_final))\n",
    "print(\"The test f1 score is:\",f1_score(y_test,predict_y_test_final))"
   ]
  },
  {
   "cell_type": "code",
   "execution_count": 39,
   "id": "8c23b4f9",
   "metadata": {},
   "outputs": [],
   "source": [
    "def plot_confusion_matrix(test_y, predict_y):\n",
    "    C = confusion_matrix(test_y, predict_y)\n",
    "    \n",
    "    A =(((C.T)/(C.sum(axis=1))).T)\n",
    "    \n",
    "    B =(C/C.sum(axis=0))\n",
    "    plt.figure(figsize=(20,4))\n",
    "    \n",
    "    labels = [0,1]\n",
    "    # representing A in heatmap format\n",
    "    cmap=sns.light_palette(\"blue\")\n",
    "    plt.subplot(1, 3, 1)\n",
    "    sns.heatmap(C, annot=True, cmap=cmap, fmt=\".3f\", xticklabels=labels, yticklabels=labels)\n",
    "    plt.xlabel('Predicted Class')\n",
    "    plt.ylabel('Original Class')\n",
    "    plt.title(\"Confusion matrix\")\n",
    "    \n",
    "    plt.subplot(1, 3, 2)\n",
    "    sns.heatmap(B, annot=True, cmap=cmap, fmt=\".3f\", xticklabels=labels, yticklabels=labels)\n",
    "    plt.xlabel('Predicted Class')\n",
    "    plt.ylabel('Original Class')\n",
    "    plt.title(\"Precision matrix\")\n",
    "    \n",
    "    plt.subplot(1, 3, 3)\n",
    "    # representing B in heatmap format\n",
    "    sns.heatmap(A, annot=True, cmap=cmap, fmt=\".3f\", xticklabels=labels, yticklabels=labels)\n",
    "    plt.xlabel('Predicted Class')\n",
    "    plt.ylabel('Original Class')\n",
    "    plt.title(\"Recall matrix\")\n",
    "    \n",
    "    plt.show()"
   ]
  },
  {
   "cell_type": "code",
   "execution_count": 42,
   "id": "7b000277",
   "metadata": {},
   "outputs": [
    {
     "name": "stdout",
     "output_type": "stream",
     "text": [
      "Train confusion_matrix\n"
     ]
    },
    {
     "data": {
      "image/png": "[encoded data removed]",
      "text/plain": [
       "<Figure size 1440x288 with 6 Axes>"
      ]
     },
     "metadata": {
      "needs_background": "light"
     },
     "output_type": "display_data"
    },
    {
     "name": "stdout",
     "output_type": "stream",
     "text": [
      "Test confusion_matrix\n"
     ]
    },
    {
     "data": {
      "image/png": "[encoded data removed]",
      "text/plain": [
       "<Figure size 1440x288 with 6 Axes>"
      ]
     },
     "metadata": {
      "needs_background": "light"
     },
     "output_type": "display_data"
    }
   ],
   "source": [
    "print('Train confusion_matrix')\n",
    "plot_confusion_matrix(y_train,predict_y_train_final)\n",
    "print('Test confusion_matrix')\n",
    "plot_confusion_matrix(y_test,predict_y_test_final)"
   ]
  },
  {
   "cell_type": "code",
   "execution_count": 43,
   "id": "a363b079",
   "metadata": {},
   "outputs": [
    {
     "data": {
      "image/png": "[encoded data removed]",
      "text/plain": [
       "<Figure size 432x288 with 1 Axes>"
      ]
     },
     "metadata": {
      "needs_background": "light"
     },
     "output_type": "display_data"
    }
   ],
   "source": [
    "fpr,tpr,ths = roc_curve(y_test,predict_y_test_final)\n",
    "auc_sc = auc(fpr, tpr)\n",
    "plt.plot(fpr, tpr, color='navy',label='ROC curve (area = %0.2f)' % auc_sc)\n",
    "plt.xlabel('False Positive Rate')\n",
    "plt.ylabel('True Positive Rate')\n",
    "plt.title('Receiver operating characteristic with test data')\n",
    "plt.legend()\n",
    "plt.show()"
   ]
  },
  {
   "cell_type": "code",
   "execution_count": 45,
   "id": "65e5e378",
   "metadata": {},
   "outputs": [
    {
     "data": {
      "image/png": "[encoded data removed]",
      "text/plain": [
       "<Figure size 720x864 with 1 Axes>"
      ]
     },
     "metadata": {
      "needs_background": "light"
     },
     "output_type": "display_data"
    }
   ],
   "source": [
    "features = df_final_train.columns\n",
    "importances = final_clf.feature_importances_\n",
    "indices = (np.argsort(importances))[-25:]\n",
    "plt.figure(figsize=(10,12))\n",
    "plt.title('Feature Importances')\n",
    "plt.barh(range(len(indices)), importances[indices], color='r', align='center')\n",
    "plt.yticks(range(len(indices)), [features[i] for i in indices])\n",
    "plt.xlabel('Relative Importance')\n",
    "plt.show()"
   ]
  },
  {
   "cell_type": "code",
   "execution_count": 50,
   "id": "5cc18ac0",
   "metadata": {},
   "outputs": [
    {
     "name": "stdout",
     "output_type": "stream",
     "text": [
      "+---------+----------------+--------------------+\n",
      "|  Model  | Train_f1_Score |   Test_f1_score    |\n",
      "+---------+----------------+--------------------+\n",
      "| XGBoost |      1.0       | 0.8892053039067367 |\n",
      "+---------+----------------+--------------------+\n"
     ]
    }
   ],
   "source": [
    "tab = PrettyTable()\n",
    "tab.field_names=[\"Model\",\"Train_f1_Score\",\"Test_f1_score\"]\n",
    "tab.add_row([\"XGBoost\",\"1.0\",\"0.8892053039067367\"])\n",
    "print(tab)"
   ]
  },
  {
   "cell_type": "code",
   "execution_count": 49,
   "id": "ad0b70b5",
   "metadata": {},
   "outputs": [],
   "source": [
    "#save the model for next use\n",
    "# save to JSON\n",
    "final_clf.save_model(\"data/xgb_model.json\")\n",
    "# save to text format\n",
    "final_clf.save_model(\"data/xgb_model.txt\")"
   ]
  },
  {
   "cell_type": "code",
   "execution_count": null,
   "id": "7cc512c7",
   "metadata": {},
   "outputs": [],
   "source": [
    "final_clf = xgb.Booster()\n",
    "final_clf.load_model(\"data/xgb_model.json\")"
   ]
  }
 ],
 "metadata": {
  "kernelspec": {
   "display_name": "Python 3 (ipykernel)",
   "language": "python",
   "name": "python3"
  },
  "language_info": {
   "codemirror_mode": {
    "name": "ipython",
    "version": 3
   },
   "file_extension": ".py",
   "mimetype": "text/x-python",
   "name": "python",
   "nbconvert_exporter": "python",
   "pygments_lexer": "ipython3",
   "version": "3.9.7"
  }
 },
 "nbformat": 4,
 "nbformat_minor": 5
}
