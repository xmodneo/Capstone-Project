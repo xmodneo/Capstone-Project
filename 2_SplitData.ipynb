{
 "cells": [
  {
   "cell_type": "code",
   "execution_count": 1,
   "id": "35b7fbde",
   "metadata": {},
   "outputs": [],
   "source": [
    "import csv\n",
    "import time\n",
    "import os\n",
    "import random\n",
    "import numpy as np\n",
    "import pandas as pd\n",
    "import pickle as pk\n",
    "import networkx as nx\n",
    "from sklearn.model_selection import train_test_split"
   ]
  },
  {
   "cell_type": "markdown",
   "id": "c673104b",
   "metadata": {},
   "source": [
    "#### Pose the problem as supervised learning classification problem\n",
    "Generate bad links from graph that were not present in graph and has shortest path > 2 "
   ]
  },
  {
   "cell_type": "code",
   "execution_count": 2,
   "id": "6c393343",
   "metadata": {},
   "outputs": [],
   "source": [
    "###generating bad edges from given graph\n",
    "\n",
    "if not os.path.isfile('data/missing_edges.p'):\n",
    "    #getting all set of edges\n",
    "    if not os.path.isfile('data/new_train.csv'):\n",
    "        print(\"Please Run the first 3 cells of EDA.ipynb to Generate the required files for further processing\")\n",
    "    else:\n",
    "        data = csv.reader(open('data/new_train.csv','r'))\n",
    "        graph = nx.read_edgelist('data/new_train.csv',delimiter=',',create_using=nx.DiGraph(),nodetype=int)\n",
    "    \n",
    "        edges = dict()\n",
    "        for edge in data:\n",
    "            edges[(edge[0], edge[1])] = 1\n",
    "        \n",
    "        \n",
    "        missing_edges = set([])\n",
    "        while (len(missing_edges)<9437519):\n",
    "            a=random.randint(1, 1862220)\n",
    "            b=random.randint(1, 1862220)\n",
    "            temp = edges.get((a,b),-1)\n",
    "            if temp == -1 and a!=b:\n",
    "                try:\n",
    "                    if nx.shortest_path_length(graph,source=a,target=b) > 2: \n",
    "                        missing_edges.add((a,b))\n",
    "                    else:\n",
    "                        continue  \n",
    "                except:  \n",
    "                      missing_edges.add((a,b))              \n",
    "            else:\n",
    "                continue\n",
    "        pk.dump(missing_edges,open('data/missing_edges.p','wb'))\n",
    "else:\n",
    "    missing_edges = pk.load(open('data/missing_edges.p','rb'))"
   ]
  },
  {
   "cell_type": "markdown",
   "id": "45cf58d1",
   "metadata": {},
   "source": [
    "##### Train and Test split"
   ]
  },
  {
   "cell_type": "code",
   "execution_count": 6,
   "id": "d75eb54b",
   "metadata": {},
   "outputs": [
    {
     "name": "stdout",
     "output_type": "stream",
     "text": [
      "Number of nodes in the graph with edges 9437519\n",
      "Number of nodes in the graph without edges 9437519\n",
      "=======================================================\n",
      "Number of nodes in the train data graph with edges 7550015 = 7550015\n",
      "Number of nodes in the train data graph without edges 7550015 = 7550015\n",
      "=======================================================\n",
      "Number of nodes in the test data graph with edges 1887504 = 1887504\n",
      "Number of nodes in the test data graph without edges 1887504 = 1887504\n"
     ]
    }
   ],
   "source": [
    "if (not os.path.isfile('data/train_orig.csv')) and (not os.path.isfile('data/test_orig.csv')):\n",
    "    #reading total data df\n",
    "    df_orig = pd.read_csv('data/train.csv')\n",
    "    df_generated = pd.DataFrame(list(missing_edges), columns=['source_node', 'destination_node'])\n",
    "    \n",
    "    print(\"Number of nodes in the graph with edges\", df_orig.shape[0])\n",
    "    print(\"Number of nodes in the graph without edges\", df_generated.shape[0])\n",
    "    \n",
    "    #Split data into Train: Test by 80:20 \n",
    "    #split original links and genrated links seperatly because  \n",
    "    #only original data is required for creating graph and feature generation\n",
    "    x_train_orig, x_test_orig, y_train_orig, y_test_orig  = train_test_split(df_orig,np.ones(len(df_orig)),test_size=0.2, random_state=20)\n",
    "    x_train_gener, x_test_gener, y_train_gener, y_test_gener  = train_test_split(df_generated,np.zeros(len(df_generated)),test_size=0.2, random_state=20)\n",
    "    \n",
    "    print('='*55)\n",
    "    print(\"Number of nodes in the train data graph with edges\", x_train_orig.shape[0],\"=\",y_train_orig.shape[0])\n",
    "    print(\"Number of nodes in the train data graph without edges\", x_train_gener.shape[0],\"=\", y_train_gener.shape[0])\n",
    "    print('='*55)\n",
    "    print(\"Number of nodes in the test data graph with edges\", x_test_orig.shape[0],\"=\",y_test_orig.shape[0])\n",
    "    print(\"Number of nodes in the test data graph without edges\", x_test_gener.shape[0],\"=\",y_test_gener.shape[0])\n",
    "\n",
    "    \n",
    "    x_train_orig.to_csv('data/train_orig.csv',header=False, index=False)\n",
    "    x_test_orig.to_csv('data/test_orig.csv',header=False, index=False)\n",
    "    x_train_gener.to_csv('data/train_gener.csv',header=False, index=False)\n",
    "    x_test_gener.to_csv('data/test_gener.csv',header=False, index=False)\n",
    "    \n",
    "else:\n",
    "    #Graph from Traing data only \n",
    "    del missing_edges\n",
    "    \n",
    "    train_graph=nx.read_edgelist('data/train_orig.csv',delimiter=',',create_using=nx.DiGraph(),nodetype=int)\n",
    "    test_graph=nx.read_edgelist('data/test_orig.csv',delimiter=',',create_using=nx.DiGraph(),nodetype=int)\n",
    "    print(nx.info(train_graph))\n",
    "    print(nx.info(test_graph))\n",
    "\n",
    "    # get unique nodes in test/train graphs\n",
    "    train_nodes = set(train_graph.nodes(),'\\n')\n",
    "    test_nodes = set(test_graph.nodes(),'\\n')\n",
    "\n",
    "    com_people = len(train_nodes.intersection(test_nodes))\n",
    "    only_train_people = len(train_nodes - test_nodes)\n",
    "    only_test_people = len(test_nodes - train_nodes)\n",
    "\n",
    "    print(com_people,'\\n people common in train & test -- ')\n",
    "    print(only_train_people,' people only present in train')\n",
    "\n",
    "    print(only_test_people,' people present only in test')\n",
    "    print('People in Test are {} %'.format(only_test_people/len(test_nodes)*100))"
   ]
  },
  {
   "cell_type": "code",
   "execution_count": 10,
   "id": "9a1fcddc",
   "metadata": {},
   "outputs": [
    {
     "name": "stdout",
     "output_type": "stream",
     "text": [
      "Total data points in training data (15100030, 2)\n",
      "Total data points in testing data (3775008, 2)\n",
      "Shape of traget variable in train (15100030,)\n",
      "Shape of traget variable in test (3775008,)\n"
     ]
    }
   ],
   "source": [
    "#final train and test data sets\n",
    "if (not os.path.isfile('data/train_x.csv')) and (not os.path.isfile('data/test_x.csv')) and\\\n",
    "(not os.path.isfile('data/train_y.csv')) and (not os.path.isfile('data/test_y.csv')):\n",
    "\n",
    "    X_train = x_train_orig.append(x_train_gener,ignore_index=True)\n",
    "    y_train = np.concatenate((y_train_orig,y_train_gener))\n",
    "    X_test = x_test_orig.append(x_test_gener,ignore_index=True)\n",
    "    y_test = np.concatenate((y_test_orig,y_test_gener)) \n",
    "    \n",
    "    print(\"Total data points in training data\",X_train.shape)\n",
    "    print(\"Total data points in testing data\",X_test.shape)\n",
    "    print(\"Shape of traget variable in train\",y_train.shape)\n",
    "    print(\"Shape of traget variable in test\", y_test.shape)\n",
    "    \n",
    "    X_train.to_csv('data/train_x.csv',header=False,index=False)\n",
    "    X_test.to_csv('data/test_x.csv',header=False,index=False)\n",
    "    pd.DataFrame(y_train.astype(int)).to_csv('data/train_y.csv',header=False,index=False)\n",
    "    pd.DataFrame(y_test.astype(int)).to_csv('data/test_y.csv',header=False,index=False)"
   ]
  },
  {
   "cell_type": "code",
   "execution_count": null,
   "id": "5d6bb2be",
   "metadata": {},
   "outputs": [],
   "source": []
  }
 ],
 "metadata": {
  "kernelspec": {
   "display_name": "Python 3 (ipykernel)",
   "language": "python",
   "name": "python3"
  },
  "language_info": {
   "codemirror_mode": {
    "name": "ipython",
    "version": 3
   },
   "file_extension": ".py",
   "mimetype": "text/x-python",
   "name": "python",
   "nbconvert_exporter": "python",
   "pygments_lexer": "ipython3",
   "version": "3.9.7"
  }
 },
 "nbformat": 4,
 "nbformat_minor": 5
}
